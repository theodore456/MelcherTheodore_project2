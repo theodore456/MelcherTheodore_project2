{
 "cells": [
  {
   "cell_type": "code",
   "execution_count": 25,
   "metadata": {},
   "outputs": [],
   "source": [
    "import random\n",
    "\n",
    "def hangman():\n",
    "    userWord = []\n",
    "    count = 0\n",
    "    print(\"Current guesses\")\n",
    "    for c in correctWord:\n",
    "        if c == \" \":\n",
    "            userWord.append(\" \")\n",
    "            print(\" \", end=\" \")\n",
    "        else:\n",
    "            userWord.append(\"_\")\n",
    "            print(\"_\", end=\" \")\n",
    "    while True:\n",
    "        if(count==10):\n",
    "            break\n",
    "        letter = input(\"\\nEnter your next letter to guess:\")\n",
    "        count+=1\n",
    "        index = 0\n",
    "        for i in range(0,len(correctWord)):\n",
    "            if(correctWord[i] == letter):\n",
    "                userWord[i]=letter\n",
    "        print(\"Current guesses\")\n",
    "        print(\" \".join(userWord))\n",
    "        if(correctWord==\"\".join(userWord)):\n",
    "            print(\"You win, The hangman word is \",correctWord)\n",
    "            break\n",
    "# \n",
    "\n"
   ]
  },
  {
   "cell_type": "code",
   "execution_count": 26,
   "metadata": {},
   "outputs": [],
   "source": [
    "def decrypt(correctWord):\n",
    "    plaintext = \"\"\n",
    "    for i in range(0,len(correctWord)):\n",
    "        #reverses the ascii value change from encryption for even values\n",
    "        if i%2 == 0:\n",
    "            ciphertext_ascii = ord(correctWord[i])\n",
    "            plaintext_ascii = ciphertext_ascii - 1\n",
    "        #reverses the ascii value change from encryption for odd values\n",
    "        else:\n",
    "            ciphertext_ascii = ord(correctWord[i])\n",
    "            plaintext_ascii = ciphertext_ascii + 1\n",
    "        plaintext += chr(plaintext_ascii)\n",
    "        i+= 1\n",
    "    return plaintext"
   ]
  },
  {
   "cell_type": "code",
   "execution_count": 27,
   "metadata": {},
   "outputs": [
    {
     "name": "stdout",
     "output_type": "stream",
     "text": [
      "Current guesses\n",
      "_ _ _ _ \n",
      "Enter your next letter to guess:e\n",
      "Current guesses\n",
      "_ _ _ _\n",
      "\n",
      "Enter your next letter to guess:d\n",
      "Current guesses\n",
      "d _ _ _\n",
      "\n",
      "Enter your next letter to guess:n\n",
      "Current guesses\n",
      "d n _ _\n",
      "\n",
      "Enter your next letter to guess:p\n",
      "Current guesses\n",
      "d n p _\n",
      "\n",
      "Enter your next letter to guess:k\n",
      "Current guesses\n",
      "d n p k\n",
      "You win, The hangman word is  dnpk\n",
      "The decrypted word is cool\n"
     ]
    }
   ],
   "source": [
    "#assigns random word\n",
    "words = [\"WHDSPQZ\", 'XHO', 'TTDBFRT', 'QQJYF', 'ENQD', 'DNPK', 'CNTR', 'EHWHOD', 'TSVMOHOF', 'XNOCFQGTM']\n",
    "position = random.randint(0,len(words)-1)\n",
    "correctWord = words[position].lower()\n",
    "hangman()\n",
    "print(\"The decrypted word is\",decrypt(correctWord))\n"
   ]
  },
  {
   "cell_type": "code",
   "execution_count": null,
   "metadata": {},
   "outputs": [],
   "source": []
  },
  {
   "cell_type": "code",
   "execution_count": null,
   "metadata": {},
   "outputs": [],
   "source": []
  }
 ],
 "metadata": {
  "kernelspec": {
   "display_name": "Python 3",
   "language": "python",
   "name": "python3"
  },
  "language_info": {
   "codemirror_mode": {
    "name": "ipython",
    "version": 3
   },
   "file_extension": ".py",
   "mimetype": "text/x-python",
   "name": "python",
   "nbconvert_exporter": "python",
   "pygments_lexer": "ipython3",
   "version": "3.8.5"
  }
 },
 "nbformat": 4,
 "nbformat_minor": 4
}
